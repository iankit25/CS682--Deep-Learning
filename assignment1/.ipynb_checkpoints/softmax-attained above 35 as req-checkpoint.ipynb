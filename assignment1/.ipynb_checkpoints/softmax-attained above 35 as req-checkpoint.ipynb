{
 "cells": [
  {
   "cell_type": "markdown",
   "metadata": {},
   "source": [
    "# Softmax exercise\n",
    "\n",
    "*Complete and hand in this completed worksheet (including its outputs and any supporting code outside of the worksheet) with your assignment submission. For more details see the [assignments page](https://compsci697l.github.io/assignments.html) on the course website.*\n",
    "\n",
    "This exercise is analogous to the SVM exercise. You will:\n",
    "\n",
    "- implement a fully-vectorized **loss function** for the Softmax classifier\n",
    "- implement the fully-vectorized expression for its **analytic gradient**\n",
    "- **check your implementation** with numerical gradient\n",
    "- use a validation set to **tune the learning rate and regularization** strength\n",
    "- **optimize** the loss function with **SGD**\n",
    "- **visualize** the final learned weights\n"
   ]
  },
  {
   "cell_type": "code",
   "execution_count": 1,
   "metadata": {
    "collapsed": true
   },
   "outputs": [],
   "source": [
    "import random\n",
    "import numpy as np\n",
    "from asgn1.data_utils import load_CIFAR10\n",
    "import matplotlib.pyplot as plt\n",
    "%matplotlib inline\n",
    "plt.rcParams['figure.figsize'] = (10.0, 8.0) # set default size of plots\n",
    "plt.rcParams['image.interpolation'] = 'nearest'\n",
    "plt.rcParams['image.cmap'] = 'gray'\n",
    "\n",
    "# for auto-reloading extenrnal modules\n",
    "# see http://stackoverflow.com/questions/1907993/autoreload-of-modules-in-ipython\n",
    "%load_ext autoreload\n",
    "%autoreload 2"
   ]
  },
  {
   "cell_type": "code",
   "execution_count": 2,
   "metadata": {},
   "outputs": [
    {
     "name": "stdout",
     "output_type": "stream",
     "text": [
      "Train data shape:  (49000, 3073)\n",
      "Train labels shape:  (49000,)\n",
      "Validation data shape:  (1000, 3073)\n",
      "Validation labels shape:  (1000,)\n",
      "Test data shape:  (1000, 3073)\n",
      "Test labels shape:  (1000,)\n",
      "dev data shape:  (500, 3073)\n",
      "dev labels shape:  (500,)\n"
     ]
    }
   ],
   "source": [
    "def get_CIFAR10_data(num_training=49000, num_validation=1000, num_test=1000, num_dev=500):\n",
    "  \"\"\"\n",
    "  Load the CIFAR-10 dataset from disk and perform preprocessing to prepare\n",
    "  it for the linear classifier. These are the same steps as we used for the\n",
    "  SVM, but condensed to a single function.  \n",
    "  \"\"\"\n",
    "  # Load the raw CIFAR-10 data\n",
    "  cifar10_dir = 'datasets/cifar-10-batches-py'\n",
    "  X_train, y_train, X_test, y_test = load_CIFAR10(cifar10_dir)\n",
    "  \n",
    "  # subsample the data\n",
    "  mask = range(num_training, num_training + num_validation)\n",
    "  X_val = X_train[mask]\n",
    "  y_val = y_train[mask]\n",
    "  mask = range(num_training)\n",
    "  X_train = X_train[mask]\n",
    "  y_train = y_train[mask]\n",
    "  mask = range(num_test)\n",
    "  X_test = X_test[mask]\n",
    "  y_test = y_test[mask]\n",
    "  mask = np.random.choice(num_training, num_dev, replace=False)\n",
    "  X_dev = X_train[mask]\n",
    "  y_dev = y_train[mask]\n",
    "  \n",
    "  # Preprocessing: reshape the image data into rows\n",
    "  X_train = np.reshape(X_train, (X_train.shape[0], -1))\n",
    "  X_val = np.reshape(X_val, (X_val.shape[0], -1))\n",
    "  X_test = np.reshape(X_test, (X_test.shape[0], -1))\n",
    "  X_dev = np.reshape(X_dev, (X_dev.shape[0], -1))\n",
    "  \n",
    "  # Normalize the data: subtract the mean image\n",
    "  mean_image = np.mean(X_train, axis = 0)\n",
    "  X_train -= mean_image\n",
    "  X_val -= mean_image\n",
    "  X_test -= mean_image\n",
    "  X_dev -= mean_image\n",
    "  \n",
    "  # add bias dimension and transform into columns\n",
    "  X_train = np.hstack([X_train, np.ones((X_train.shape[0], 1))])\n",
    "  X_val = np.hstack([X_val, np.ones((X_val.shape[0], 1))])\n",
    "  X_test = np.hstack([X_test, np.ones((X_test.shape[0], 1))])\n",
    "  X_dev = np.hstack([X_dev, np.ones((X_dev.shape[0], 1))])\n",
    "  \n",
    "  return X_train, y_train, X_val, y_val, X_test, y_test, X_dev, y_dev\n",
    "\n",
    "\n",
    "# Invoke the above function to get our data.\n",
    "X_train, y_train, X_val, y_val, X_test, y_test, X_dev, y_dev = get_CIFAR10_data()\n",
    "print 'Train data shape: ', X_train.shape\n",
    "print 'Train labels shape: ', y_train.shape\n",
    "print 'Validation data shape: ', X_val.shape\n",
    "print 'Validation labels shape: ', y_val.shape\n",
    "print 'Test data shape: ', X_test.shape\n",
    "print 'Test labels shape: ', y_test.shape\n",
    "print 'dev data shape: ', X_dev.shape\n",
    "print 'dev labels shape: ', y_dev.shape"
   ]
  },
  {
   "cell_type": "markdown",
   "metadata": {},
   "source": [
    "## Softmax Classifier\n",
    "\n",
    "Your code for this section will all be written inside **asgn1/classifiers/softmax.py**. \n"
   ]
  },
  {
   "cell_type": "code",
   "execution_count": 3,
   "metadata": {},
   "outputs": [
    {
     "name": "stdout",
     "output_type": "stream",
     "text": [
      "loss: 2.370486\n",
      "sanity check: 2.302585\n"
     ]
    }
   ],
   "source": [
    "# First implement the naive softmax loss function with nested loops.\n",
    "# Open the file asgn1/classifiers/softmax.py and implement the\n",
    "# softmax_loss_naive function.\n",
    "\n",
    "from asgn1.classifiers.softmax import softmax_loss_naive\n",
    "import time\n",
    "\n",
    "# Generate a random softmax weight matrix and use it to compute the loss.\n",
    "W = np.random.randn(3073, 10) * 0.0001\n",
    "loss, grad = softmax_loss_naive(W, X_dev, y_dev, 0.0)\n",
    "\n",
    "# As a rough sanity check, our loss should be something close to -log(0.1).\n",
    "print 'loss: %f' % loss\n",
    "print 'sanity check: %f' % (-np.log(0.1))"
   ]
  },
  {
   "cell_type": "markdown",
   "metadata": {},
   "source": [
    "## Inline Question 1:\n",
    "Why do we expect our loss to be close to -log(0.1)? Explain briefly.**\n",
    "\n",
    "**Your answer:** *Fill this in*\n",
    "When we run softmax with weights initialized randomly, the probability of getting the correct class is 1/10. Hence loss = -log(1/10) or -log(0.1)"
   ]
  },
  {
   "cell_type": "code",
   "execution_count": 4,
   "metadata": {
    "scrolled": true
   },
   "outputs": [
    {
     "name": "stdout",
     "output_type": "stream",
     "text": [
      "numerical: -1.236110 analytic: -1.236110, relative error: 1.090696e-08\n",
      "numerical: 0.668721 analytic: 0.668721, relative error: 5.108578e-09\n",
      "numerical: -0.472237 analytic: -0.472237, relative error: 3.137702e-08\n",
      "numerical: 2.034204 analytic: 2.034204, relative error: 3.526026e-08\n",
      "numerical: 2.181732 analytic: 2.181732, relative error: 9.129213e-09\n",
      "numerical: -1.825013 analytic: -1.825013, relative error: 2.781728e-08\n",
      "numerical: -0.440088 analytic: -0.440088, relative error: 1.912808e-08\n",
      "numerical: -1.722876 analytic: -1.722876, relative error: 6.382400e-09\n",
      "numerical: 0.414171 analytic: 0.414171, relative error: 4.362239e-09\n",
      "numerical: -2.568082 analytic: -2.568082, relative error: 5.953708e-09\n",
      "numerical: 3.576720 analytic: 3.576720, relative error: 8.966118e-09\n",
      "numerical: 1.354405 analytic: 1.354405, relative error: 5.251024e-08\n",
      "numerical: -0.533807 analytic: -0.533807, relative error: 1.044905e-07\n",
      "numerical: -1.030340 analytic: -1.030340, relative error: 4.253525e-08\n",
      "numerical: 0.835245 analytic: 0.835245, relative error: 8.421429e-09\n",
      "numerical: 3.123163 analytic: 3.123162, relative error: 9.817540e-09\n",
      "numerical: -1.827525 analytic: -1.827525, relative error: 3.474506e-08\n",
      "numerical: 1.229852 analytic: 1.229852, relative error: 4.513306e-08\n",
      "numerical: 2.577349 analytic: 2.577349, relative error: 1.298665e-08\n",
      "numerical: -1.667184 analytic: -1.667184, relative error: 4.325253e-08\n"
     ]
    }
   ],
   "source": [
    "# Complete the implementation of softmax_loss_naive and implement a (naive)\n",
    "# version of the gradient that uses nested loops.\n",
    "loss, grad = softmax_loss_naive(W, X_dev, y_dev, 0.0)\n",
    "\n",
    "# As we did for the SVM, use numeric gradient checking as a debugging tool.\n",
    "# The numeric gradient should be close to the analytic gradient.\n",
    "from asgn1.gradient_check import grad_check_sparse\n",
    "f = lambda w: softmax_loss_naive(w, X_dev, y_dev, 0.0)[0]\n",
    "grad_numerical = grad_check_sparse(f, W, grad, 10)\n",
    "\n",
    "# similar to SVM case, do another gradient check with regularization\n",
    "loss, grad = softmax_loss_naive(W, X_dev, y_dev, 1e2)\n",
    "f = lambda w: softmax_loss_naive(w, X_dev, y_dev, 1e2)[0]\n",
    "grad_numerical = grad_check_sparse(f, W, grad, 10)"
   ]
  },
  {
   "cell_type": "code",
   "execution_count": 6,
   "metadata": {},
   "outputs": [
    {
     "name": "stdout",
     "output_type": "stream",
     "text": [
      "naive loss: 2.370486e+00 computed in 0.221337s\n",
      "vectorized loss: 2.370486e+00 computed in 0.013622s\n",
      "Loss difference: 0.000000\n",
      "Gradient difference: 0.000000\n"
     ]
    }
   ],
   "source": [
    "# Now that we have a naive implementation of the softmax loss function and its gradient,\n",
    "# implement a vectorized version in softmax_loss_vectorized.\n",
    "# The two versions should compute the same results, but the vectorized version should be\n",
    "# much faster.\n",
    "tic = time.time()\n",
    "loss_naive, grad_naive = softmax_loss_naive(W, X_dev, y_dev, 0.00001)\n",
    "toc = time.time()\n",
    "print 'naive loss: %e computed in %fs' % (loss_naive, toc - tic)\n",
    "\n",
    "from asgn1.classifiers.softmax import softmax_loss_vectorized\n",
    "tic = time.time()\n",
    "loss_vectorized, grad_vectorized = softmax_loss_vectorized(W, X_dev, y_dev, 0.00001)\n",
    "toc = time.time()\n",
    "print 'vectorized loss: %e computed in %fs' % (loss_vectorized, toc - tic)\n",
    "\n",
    "# As we did for the SVM, we use the Frobenius norm to compare the two versions\n",
    "# of the gradient.\n",
    "grad_difference = np.linalg.norm(grad_naive - grad_vectorized, ord='fro')\n",
    "print 'Loss difference: %f' % np.abs(loss_naive - loss_vectorized)\n",
    "print 'Gradient difference: %f' % grad_difference"
   ]
  },
  {
   "cell_type": "code",
   "execution_count": 7,
   "metadata": {},
   "outputs": [
    {
     "name": "stdout",
     "output_type": "stream",
     "text": [
      "iteration 0 / 1500: loss 44.729998\n",
      "iteration 100 / 1500: loss 35.697032\n",
      "iteration 200 / 1500: loss 30.535702\n",
      "iteration 300 / 1500: loss 26.538868\n",
      "iteration 400 / 1500: loss 22.919176\n",
      "iteration 500 / 1500: loss 19.819916\n",
      "iteration 600 / 1500: loss 17.319728\n",
      "iteration 700 / 1500: loss 15.042559\n",
      "iteration 800 / 1500: loss 13.234810\n",
      "iteration 900 / 1500: loss 11.585390\n",
      "iteration 1000 / 1500: loss 10.096006\n",
      "iteration 1100 / 1500: loss 9.051851\n",
      "iteration 1200 / 1500: loss 7.989155\n",
      "iteration 1300 / 1500: loss 7.059098\n",
      "iteration 1400 / 1500: loss 6.414644\n",
      "0.365\n",
      "iteration 0 / 1500: loss 392.313729\n",
      "iteration 100 / 1500: loss 87.694722\n",
      "iteration 200 / 1500: loss 20.948262\n",
      "iteration 300 / 1500: loss 6.194258\n",
      "iteration 400 / 1500: loss 2.920511\n",
      "iteration 500 / 1500: loss 2.236900\n",
      "iteration 600 / 1500: loss 2.066292\n",
      "iteration 700 / 1500: loss 1.957672\n",
      "iteration 800 / 1500: loss 2.004194\n",
      "iteration 900 / 1500: loss 2.056716\n",
      "iteration 1000 / 1500: loss 2.032526\n",
      "iteration 1100 / 1500: loss 2.032035\n",
      "iteration 1200 / 1500: loss 1.984740\n",
      "iteration 1300 / 1500: loss 2.004033\n",
      "iteration 1400 / 1500: loss 2.042767\n",
      "0.378\n",
      "iteration 0 / 1500: loss 43.380395\n",
      "iteration 100 / 1500: loss 40.359616\n",
      "iteration 200 / 1500: loss 37.605210\n",
      "iteration 300 / 1500: loss 35.717250\n",
      "iteration 400 / 1500: loss 34.460364\n",
      "iteration 500 / 1500: loss 32.460937\n",
      "iteration 600 / 1500: loss 31.050138\n",
      "iteration 700 / 1500: loss 29.308560\n",
      "iteration 800 / 1500: loss 27.901119\n",
      "iteration 900 / 1500: loss 26.419422\n",
      "iteration 1000 / 1500: loss 25.183309\n",
      "iteration 1100 / 1500: loss 24.141686\n",
      "iteration 1200 / 1500: loss 22.807778\n",
      "iteration 1300 / 1500: loss 22.098529\n",
      "iteration 1400 / 1500: loss 20.957333\n",
      "0.267\n",
      "iteration 0 / 1500: loss 385.071073\n",
      "iteration 100 / 1500: loss 233.121373\n",
      "iteration 200 / 1500: loss 141.707576\n",
      "iteration 300 / 1500: loss 86.548437\n",
      "iteration 400 / 1500: loss 53.141677\n",
      "iteration 500 / 1500: loss 32.897744\n",
      "iteration 600 / 1500: loss 20.748783\n",
      "iteration 700 / 1500: loss 13.382361\n",
      "iteration 800 / 1500: loss 8.897557\n",
      "iteration 900 / 1500: loss 6.193017\n",
      "iteration 1000 / 1500: loss 4.572103\n",
      "iteration 1100 / 1500: loss 3.498468\n",
      "iteration 1200 / 1500: loss 2.939168\n",
      "iteration 1300 / 1500: loss 2.587487\n",
      "iteration 1400 / 1500: loss 2.369190\n",
      "0.361\n",
      "lr 1.000000e-07 reg 5.000000e+05 train accuracy: 0.266980 val accuracy: 0.267000\n",
      "lr 1.000000e-07 reg 5.000000e+06 train accuracy: 0.347694 val accuracy: 0.361000\n",
      "lr 3.000000e-07 reg 5.000000e+05 train accuracy: 0.360286 val accuracy: 0.365000\n",
      "lr 3.000000e-07 reg 5.000000e+06 train accuracy: 0.351490 val accuracy: 0.378000\n",
      "best validation accuracy achieved during cross-validation: 0.378000\n"
     ]
    }
   ],
   "source": [
    "# Use the validation set to tune hyperparameters (regularization strength and\n",
    "# learning rate). You should experiment with different ranges for the learning\n",
    "# rates and regularization strengths; if you are careful you should be able to\n",
    "# get a classification accuracy of over 0.35 on the validation set.\n",
    "from asgn1.classifiers import Softmax\n",
    "results = {}\n",
    "best_val = -1\n",
    "best_softmax = None\n",
    "learning_rates = [3e-7,1e-7]\n",
    "regularization_strengths = [5e5, 5e6]\n",
    "\n",
    "for i in learning_rates:\n",
    "    for j in regularization_strengths:\n",
    "        softmax=Softmax()\n",
    "        loss_hist = softmax.train(X_train, y_train, learning_rate=i, reg=j,\n",
    "                      num_iters=1500, verbose=True)\n",
    "        y_train_pred = softmax.predict(X_train)\n",
    "        y_val_pred = softmax.predict(X_val)\n",
    "        results[i,j]=[np.mean(y_train == y_train_pred),np.mean(y_val == y_val_pred)]\n",
    "        print np.mean(y_val == y_val_pred)\n",
    "        if (np.mean(y_val == y_val_pred))>best_val:\n",
    "            best_val=np.mean(y_val == y_val_pred)\n",
    "            best_softmax=softmax\n",
    "    \n",
    "# Print out results.\n",
    "for lr, reg in sorted(results):\n",
    "    train_accuracy, val_accuracy = results[(lr, reg)]\n",
    "    print 'lr %e reg %e train accuracy: %f val accuracy: %f' % (\n",
    "                lr, reg, train_accuracy, val_accuracy)\n",
    "    \n",
    "print 'best validation accuracy achieved during cross-validation: %f' % best_val"
   ]
  },
  {
   "cell_type": "code",
   "execution_count": 8,
   "metadata": {},
   "outputs": [
    {
     "name": "stdout",
     "output_type": "stream",
     "text": [
      "softmax on raw pixels final test set accuracy: 0.369000\n"
     ]
    }
   ],
   "source": [
    "# evaluate on test set\n",
    "# Evaluate the best softmax on test set\n",
    "y_test_pred = best_softmax.predict(X_test)\n",
    "test_accuracy = np.mean(y_test == y_test_pred)\n",
    "print 'softmax on raw pixels final test set accuracy: %f' % (test_accuracy, )"
   ]
  },
  {
   "cell_type": "code",
   "execution_count": 9,
   "metadata": {},
   "outputs": [
    {
     "data": {
      "image/png": "[encoded data removed]",
      "text/plain": [
       "<matplotlib.figure.Figure at 0x7fe3078ad610>"
      ]
     },
     "metadata": {},
     "output_type": "display_data"
    }
   ],
   "source": [
    "# Visualize the learned weights for each class\n",
    "w = best_softmax.W[:-1,:] # strip out the bias\n",
    "w = w.reshape(32, 32, 3, 10)\n",
    "\n",
    "w_min, w_max = np.min(w), np.max(w)\n",
    "\n",
    "classes = ['plane', 'car', 'bird', 'cat', 'deer', 'dog', 'frog', 'horse', 'ship', 'truck']\n",
    "for i in xrange(10):\n",
    "  plt.subplot(2, 5, i + 1)\n",
    "  \n",
    "  # Rescale the weights to be between 0 and 255\n",
    "  wimg = 255.0 * (w[:, :, :, i].squeeze() - w_min) / (w_max - w_min)\n",
    "  plt.imshow(wimg.astype('uint8'))\n",
    "  plt.axis('off')\n",
    "  plt.title(classes[i])"
   ]
  },
  {
   "cell_type": "code",
   "execution_count": null,
   "metadata": {
    "collapsed": true
   },
   "outputs": [],
   "source": []
  }
 ],
 "metadata": {
  "kernelspec": {
   "display_name": "Python 2",
   "language": "python",
   "name": "python2"
  },
  "language_info": {
   "codemirror_mode": {
    "name": "ipython",
    "version": 2
   },
   "file_extension": ".py",
   "mimetype": "text/x-python",
   "name": "python",
   "nbconvert_exporter": "python",
   "pygments_lexer": "ipython2",
   "version": "2.7.13"
  }
 },
 "nbformat": 4,
 "nbformat_minor": 1
}
