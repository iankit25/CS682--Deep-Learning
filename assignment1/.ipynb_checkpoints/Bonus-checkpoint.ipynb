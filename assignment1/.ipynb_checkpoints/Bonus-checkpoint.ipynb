{
 "cells": [
  {
   "cell_type": "code",
   "execution_count": 8,
   "metadata": {},
   "outputs": [
    {
     "name": "stdout",
     "output_type": "stream",
     "text": [
      "['plane', 'car', 'bird', 'cat', 'deer', 'dog', 'frog', 'horse', 'ship', 'truck']\n",
      "Confusion Matrix of SVM\n",
      "PIXEL\n",
      "[[ 37.   2.   3.   1.   2.   3.   8.   4.  30.  13.]\n",
      " [  0.  31.   2.   4.   2.   4.   6.   3.  13.  24.]\n",
      " [ 19.   2.  13.   4.  16.   8.  17.   4.  16.   1.]\n",
      " [  5.   4.   3.  12.   7.  25.  27.   5.   7.   8.]\n",
      " [  2.   4.   8.   4.  19.  10.  23.   5.   7.   8.]\n",
      " [  4.   1.   7.   9.  12.  24.  13.   6.   6.   4.]\n",
      " [  4.   5.   3.   5.   9.   9.  66.   4.   1.   6.]\n",
      " [  9.   4.   8.   4.  15.   6.  13.  29.   2.  12.]\n",
      " [ 12.   4.   0.   2.   1.   6.   0.   0.  63.  18.]\n",
      " [  5.   7.   2.   2.   0.   2.   7.   3.  16.  65.]]\n",
      "____________\n",
      "HOG\n",
      "[[ 38.   6.   2.   1.   3.   2.   5.   3.  37.   6.]\n",
      " [  3.  60.   1.   0.   0.   0.   4.   2.  11.   8.]\n",
      " [ 17.   1.  30.   4.   7.  10.  20.   4.   6.   1.]\n",
      " [ 10.   2.  11.   6.   5.  28.  16.  11.   4.  10.]\n",
      " [  6.   8.  16.   5.  18.   4.  14.  10.   6.   3.]\n",
      " [  5.   3.   8.   5.   5.  36.  10.  10.   1.   3.]\n",
      " [  6.   5.  12.   2.   3.   8.  65.   7.   3.   1.]\n",
      " [  2.   6.   5.   3.   3.   7.   7.  57.   4.   8.]\n",
      " [ 20.  17.   1.   0.   0.   0.   2.   1.  63.   2.]\n",
      " [  7.  26.   0.   3.   1.   2.   2.   1.  19.  48.]]\n",
      "____________\n",
      "dSIFT\n",
      "[[ 53.   6.   3.   1.   0.   5.   2.   6.  23.   4.]\n",
      " [  2.  61.   0.   0.   0.   2.   1.   2.   9.  12.]\n",
      " [ 18.   4.  35.   3.   2.  22.   7.   5.   2.   2.]\n",
      " [ 10.   4.   7.   9.   2.  39.   6.  15.   0.  11.]\n",
      " [ 16.   7.  11.   4.   4.  19.   8.  10.   4.   7.]\n",
      " [  4.   1.   9.   5.   4.  42.   5.  13.   1.   2.]\n",
      " [  7.   9.   5.   2.   2.  23.  40.  11.   0.  13.]\n",
      " [  9.   4.   5.   5.   0.   8.   6.  55.   2.   8.]\n",
      " [ 22.  11.   1.   0.   1.   3.   2.   2.  60.   4.]\n",
      " [  6.  19.   1.   2.   0.   5.   1.   4.  13.  58.]]\n",
      "____________\n"
     ]
    }
   ],
   "source": [
    "import pickle \n",
    "best_svm = pickle.load( open( \"best_svm.p\", \"rb\" ) )\n",
    "best_svmHOG = pickle.load( open( \"best_svm_HOG.p\", \"rb\" ) )\n",
    "best_svmSIFT = pickle.load( open( \"best_svm_SIFT.p\", \"rb\" ) )\n",
    "best_net = pickle.load( open( \"best_net.p\", \"rb\" ) )\n",
    "best_netHOG = pickle.load( open( \"best_net_HOG.p\", \"rb\" ) )\n",
    "best_netSIFT = pickle.load( open( \"best_net_SIFT.p\", \"rb\" ) )\n",
    "best_softmax = pickle.load( open( \"best_softmax.p\", \"rb\" ) )\n",
    "\n",
    "classes = ['plane', 'car', 'bird', 'cat', 'deer', 'dog', 'frog', 'horse', 'ship', 'truck']\n",
    "print classes\n",
    "print \"Confusion Matrix of SVM\"\n",
    "\n",
    "print \"PIXEL\"\n",
    "print best_svm['cmatrix']\n",
    "print \"____________\"\n",
    "\n",
    "print \"HOG\"\n",
    "print best_svmHOG['cmatrix']\n",
    "print \"____________\"\n",
    "\n",
    "print \"dSIFT\"\n",
    "print best_svmSIFT['cmatrix']\n",
    "print \"____________\""
   ]
  },
  {
   "cell_type": "code",
   "execution_count": 6,
   "metadata": {},
   "outputs": [
    {
     "name": "stdout",
     "output_type": "stream",
     "text": [
      "Confusion Matrix of NN\n",
      "PIXEL\n",
      "[[ 49.   3.   4.   2.   5.   3.   5.   4.  21.   7.]\n",
      " [  2.  59.   0.   2.   2.   0.   5.   2.   5.  12.]\n",
      " [  9.   4.  33.  16.   7.   6.  14.   7.   4.   0.]\n",
      " [  4.   3.   3.  38.   7.  18.  19.   1.   1.   9.]\n",
      " [  4.   2.   9.   9.  28.   5.  19.  11.   2.   1.]\n",
      " [  0.   2.   5.  31.   6.  31.   4.   6.   1.   0.]\n",
      " [  1.   2.   4.  14.   4.   6.  77.   1.   2.   1.]\n",
      " [  2.   0.   5.  13.   5.   7.   3.  59.   4.   4.]\n",
      " [  7.   7.   1.   6.   3.   0.   1.   1.  76.   4.]\n",
      " [  5.  15.   2.   3.   1.   2.   3.   2.  11.  65.]]\n",
      "____________\n",
      "HOG\n",
      "[[ 59.   1.   7.   3.   2.   1.   2.   4.  18.   6.]\n",
      " [  3.  55.   2.   0.   0.   0.   5.   2.   9.  13.]\n",
      " [ 13.   1.  41.  11.   9.   6.  13.   5.   1.   0.]\n",
      " [  4.   2.   4.  35.   6.  19.  17.  11.   1.   4.]\n",
      " [  5.   1.  11.   6.  43.   2.   5.  10.   2.   5.]\n",
      " [  0.   1.   4.  14.   4.  38.   9.  13.   0.   3.]\n",
      " [  2.   2.   6.   8.   7.   4.  73.   7.   1.   2.]\n",
      " [  1.   3.   2.   6.   5.  10.   4.  67.   2.   2.]\n",
      " [ 23.  10.   2.   4.   0.   0.   1.   0.  61.   5.]\n",
      " [  9.   9.   1.   4.   0.   0.   2.   4.   9.  71.]]\n",
      "____________\n",
      "dSIFT\n",
      "[[ 53.   6.   3.   1.   0.   5.   2.   6.  23.   4.]\n",
      " [  2.  61.   0.   0.   0.   2.   1.   2.   9.  12.]\n",
      " [ 18.   4.  35.   3.   2.  22.   7.   5.   2.   2.]\n",
      " [ 10.   4.   7.   9.   2.  39.   6.  15.   0.  11.]\n",
      " [ 16.   7.  11.   4.   4.  19.   8.  10.   4.   7.]\n",
      " [  4.   1.   9.   5.   4.  42.   5.  13.   1.   2.]\n",
      " [  7.   9.   5.   2.   2.  23.  40.  11.   0.  13.]\n",
      " [  9.   4.   5.   5.   0.   8.   6.  55.   2.   8.]\n",
      " [ 22.  11.   1.   0.   1.   3.   2.   2.  60.   4.]\n",
      " [  6.  19.   1.   2.   0.   5.   1.   4.  13.  58.]]\n",
      "____________\n"
     ]
    }
   ],
   "source": [
    "print \"Confusion Matrix of NN\"\n",
    "\n",
    "print \"PIXEL\"\n",
    "print best_net['cmatrix']\n",
    "print \"____________\"\n",
    "\n",
    "print \"HOG\"\n",
    "print best_netHOG['cmatrix']\n",
    "print \"____________\"\n",
    "\n",
    "print \"dSIFT\"\n",
    "print best_netSIFT['cmatrix']\n",
    "print \"____________\""
   ]
  },
  {
   "cell_type": "code",
   "execution_count": 7,
   "metadata": {},
   "outputs": [
    {
     "name": "stdout",
     "output_type": "stream",
     "text": [
      "Confusion Matrix of softmax\n",
      "PIXEL\n",
      "[[ 44.   2.   1.   1.   1.   2.   6.   4.  27.  15.]\n",
      " [  2.  27.   1.   1.   3.   7.   6.   2.  13.  27.]\n",
      " [ 23.   5.  12.   0.  17.   9.  14.   3.  14.   3.]\n",
      " [  8.   4.   3.   3.   8.  31.  21.  10.   5.  10.]\n",
      " [  6.   3.   5.   2.  19.  10.  21.   8.   6.  10.]\n",
      " [  4.   1.   8.   5.  12.  26.  11.   7.   8.   4.]\n",
      " [  5.   5.   3.   1.   8.  10.  65.   7.   1.   7.]\n",
      " [  9.   3.   2.   3.  11.   8.  13.  30.   4.  19.]\n",
      " [ 13.   4.   0.   0.   2.   7.   0.   0.  61.  19.]\n",
      " [  6.   5.   1.   0.   3.   3.   8.   2.  15.  66.]]\n",
      "____________\n"
     ]
    }
   ],
   "source": [
    "print \"Confusion Matrix of softmax\"\n",
    "\n",
    "print \"PIXEL\"\n",
    "print best_softmax['cmatrix']\n",
    "print \"____________\"\n"
   ]
  },
  {
   "cell_type": "code",
   "execution_count": null,
   "metadata": {
    "collapsed": true
   },
   "outputs": [],
   "source": [
    "#Confusion Matrix Helps us understand how confused are the models among various classes. For example dog and deer \n",
    "#get greately confused if pixel features are used but not when hog is introduced. Such analysis can help us in \n",
    "#choosing features wisely"
   ]
  }
 ],
 "metadata": {
  "kernelspec": {
   "display_name": "Python 2",
   "language": "python",
   "name": "python2"
  },
  "language_info": {
   "codemirror_mode": {
    "name": "ipython",
    "version": 2
   },
   "file_extension": ".py",
   "mimetype": "text/x-python",
   "name": "python",
   "nbconvert_exporter": "python",
   "pygments_lexer": "ipython2",
   "version": "2.7.13"
  }
 },
 "nbformat": 4,
 "nbformat_minor": 2
}
