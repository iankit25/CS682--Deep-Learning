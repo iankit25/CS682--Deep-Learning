{
 "cells": [
  {
   "cell_type": "markdown",
   "metadata": {},
   "source": [
    "# Softmax exercise\n",
    "\n",
    "*Complete and hand in this completed worksheet (including its outputs and any supporting code outside of the worksheet) with your assignment submission. For more details see the [assignments page](https://compsci697l.github.io/assignments.html) on the course website.*\n",
    "\n",
    "This exercise is analogous to the SVM exercise. You will:\n",
    "\n",
    "- implement a fully-vectorized **loss function** for the Softmax classifier\n",
    "- implement the fully-vectorized expression for its **analytic gradient**\n",
    "- **check your implementation** with numerical gradient\n",
    "- use a validation set to **tune the learning rate and regularization** strength\n",
    "- **optimize** the loss function with **SGD**\n",
    "- **visualize** the final learned weights\n"
   ]
  },
  {
   "cell_type": "code",
   "execution_count": 1,
   "metadata": {
    "collapsed": true
   },
   "outputs": [],
   "source": [
    "import random\n",
    "import numpy as np\n",
    "from asgn1.data_utils import load_CIFAR10\n",
    "import matplotlib.pyplot as plt\n",
    "%matplotlib inline\n",
    "plt.rcParams['figure.figsize'] = (10.0, 8.0) # set default size of plots\n",
    "plt.rcParams['image.interpolation'] = 'nearest'\n",
    "plt.rcParams['image.cmap'] = 'gray'\n",
    "\n",
    "# for auto-reloading extenrnal modules\n",
    "# see http://stackoverflow.com/questions/1907993/autoreload-of-modules-in-ipython\n",
    "%load_ext autoreload\n",
    "%autoreload 2"
   ]
  },
  {
   "cell_type": "code",
   "execution_count": 2,
   "metadata": {},
   "outputs": [
    {
     "name": "stdout",
     "output_type": "stream",
     "text": [
      "Train data shape:  (49000, 3073)\n",
      "Train labels shape:  (49000,)\n",
      "Validation data shape:  (1000, 3073)\n",
      "Validation labels shape:  (1000,)\n",
      "Test data shape:  (1000, 3073)\n",
      "Test labels shape:  (1000,)\n",
      "dev data shape:  (500, 3073)\n",
      "dev labels shape:  (500,)\n"
     ]
    }
   ],
   "source": [
    "def get_CIFAR10_data(num_training=49000, num_validation=1000, num_test=1000, num_dev=500):\n",
    "  \"\"\"\n",
    "  Load the CIFAR-10 dataset from disk and perform preprocessing to prepare\n",
    "  it for the linear classifier. These are the same steps as we used for the\n",
    "  SVM, but condensed to a single function.  \n",
    "  \"\"\"\n",
    "  # Load the raw CIFAR-10 data\n",
    "  cifar10_dir = 'datasets/cifar-10-batches-py'\n",
    "  X_train, y_train, X_test, y_test = load_CIFAR10(cifar10_dir)\n",
    "  \n",
    "  # subsample the data\n",
    "  mask = range(num_training, num_training + num_validation)\n",
    "  X_val = X_train[mask]\n",
    "  y_val = y_train[mask]\n",
    "  mask = range(num_training)\n",
    "  X_train = X_train[mask]\n",
    "  y_train = y_train[mask]\n",
    "  mask = range(num_test)\n",
    "  X_test = X_test[mask]\n",
    "  y_test = y_test[mask]\n",
    "  mask = np.random.choice(num_training, num_dev, replace=False)\n",
    "  X_dev = X_train[mask]\n",
    "  y_dev = y_train[mask]\n",
    "  \n",
    "  # Preprocessing: reshape the image data into rows\n",
    "  X_train = np.reshape(X_train, (X_train.shape[0], -1))\n",
    "  X_val = np.reshape(X_val, (X_val.shape[0], -1))\n",
    "  X_test = np.reshape(X_test, (X_test.shape[0], -1))\n",
    "  X_dev = np.reshape(X_dev, (X_dev.shape[0], -1))\n",
    "  \n",
    "  # Normalize the data: subtract the mean image\n",
    "  mean_image = np.mean(X_train, axis = 0)\n",
    "  X_train -= mean_image\n",
    "  X_val -= mean_image\n",
    "  X_test -= mean_image\n",
    "  X_dev -= mean_image\n",
    "  \n",
    "  # add bias dimension and transform into columns\n",
    "  X_train = np.hstack([X_train, np.ones((X_train.shape[0], 1))])\n",
    "  X_val = np.hstack([X_val, np.ones((X_val.shape[0], 1))])\n",
    "  X_test = np.hstack([X_test, np.ones((X_test.shape[0], 1))])\n",
    "  X_dev = np.hstack([X_dev, np.ones((X_dev.shape[0], 1))])\n",
    "  \n",
    "  return X_train, y_train, X_val, y_val, X_test, y_test, X_dev, y_dev\n",
    "\n",
    "\n",
    "# Invoke the above function to get our data.\n",
    "X_train, y_train, X_val, y_val, X_test, y_test, X_dev, y_dev = get_CIFAR10_data()\n",
    "print 'Train data shape: ', X_train.shape\n",
    "print 'Train labels shape: ', y_train.shape\n",
    "print 'Validation data shape: ', X_val.shape\n",
    "print 'Validation labels shape: ', y_val.shape\n",
    "print 'Test data shape: ', X_test.shape\n",
    "print 'Test labels shape: ', y_test.shape\n",
    "print 'dev data shape: ', X_dev.shape\n",
    "print 'dev labels shape: ', y_dev.shape"
   ]
  },
  {
   "cell_type": "markdown",
   "metadata": {},
   "source": [
    "## Softmax Classifier\n",
    "\n",
    "Your code for this section will all be written inside **asgn1/classifiers/softmax.py**. \n"
   ]
  },
  {
   "cell_type": "code",
   "execution_count": 3,
   "metadata": {},
   "outputs": [
    {
     "name": "stdout",
     "output_type": "stream",
     "text": [
      "loss: 2.386377\n",
      "sanity check: 2.302585\n"
     ]
    }
   ],
   "source": [
    "# First implement the naive softmax loss function with nested loops.\n",
    "# Open the file asgn1/classifiers/softmax.py and implement the\n",
    "# softmax_loss_naive function.\n",
    "\n",
    "from asgn1.classifiers.softmax import softmax_loss_naive\n",
    "import time\n",
    "\n",
    "# Generate a random softmax weight matrix and use it to compute the loss.\n",
    "W = np.random.randn(3073, 10) * 0.0001\n",
    "loss, grad = softmax_loss_naive(W, X_dev, y_dev, 0.0)\n",
    "\n",
    "# As a rough sanity check, our loss should be something close to -log(0.1).\n",
    "print 'loss: %f' % loss\n",
    "print 'sanity check: %f' % (-np.log(0.1))"
   ]
  },
  {
   "cell_type": "markdown",
   "metadata": {},
   "source": [
    "## Inline Question 1:\n",
    "Why do we expect our loss to be close to -log(0.1)? Explain briefly.**\n",
    "\n",
    "**Your answer:** *Fill this in*\n",
    "When we run softmax with weights initialized randomly, the probability of getting the correct class is 1/10. Hence loss = -log(1/10) or -log(0.1)"
   ]
  },
  {
   "cell_type": "code",
   "execution_count": 4,
   "metadata": {
    "scrolled": true
   },
   "outputs": [
    {
     "name": "stdout",
     "output_type": "stream",
     "text": [
      "numerical: 0.131451 analytic: 0.131451, relative error: 2.151481e-07\n",
      "numerical: -6.922216 analytic: -6.922216, relative error: 1.130248e-08\n",
      "numerical: 0.448391 analytic: 0.448391, relative error: 6.263701e-08\n",
      "numerical: 0.606096 analytic: 0.606096, relative error: 9.688318e-08\n",
      "numerical: 3.151207 analytic: 3.151207, relative error: 3.094878e-08\n",
      "numerical: 0.712681 analytic: 0.712681, relative error: 2.510653e-08\n",
      "numerical: 1.298505 analytic: 1.298505, relative error: 3.379619e-08\n",
      "numerical: 1.113671 analytic: 1.113671, relative error: 7.971107e-08\n",
      "numerical: 3.118181 analytic: 3.118181, relative error: 2.569453e-08\n",
      "numerical: 1.722151 analytic: 1.722151, relative error: 3.873573e-08\n",
      "numerical: 0.113360 analytic: 0.113360, relative error: 1.057714e-06\n",
      "numerical: -0.386508 analytic: -0.386508, relative error: 1.667706e-08\n",
      "numerical: 2.115213 analytic: 2.115213, relative error: 7.125059e-08\n",
      "numerical: 0.673765 analytic: 0.673765, relative error: 2.235883e-08\n",
      "numerical: -0.769896 analytic: -0.769896, relative error: 5.643859e-08\n",
      "numerical: 1.335440 analytic: 1.335440, relative error: 1.050156e-08\n",
      "numerical: -0.760803 analytic: -0.760803, relative error: 3.012630e-08\n",
      "numerical: 1.290817 analytic: 1.290817, relative error: 8.394276e-08\n",
      "numerical: 1.394835 analytic: 1.394835, relative error: 9.784038e-09\n",
      "numerical: -1.083603 analytic: -1.083604, relative error: 6.701412e-08\n"
     ]
    }
   ],
   "source": [
    "# Complete the implementation of softmax_loss_naive and implement a (naive)\n",
    "# version of the gradient that uses nested loops.\n",
    "loss, grad = softmax_loss_naive(W, X_dev, y_dev, 0.0)\n",
    "\n",
    "# As we did for the SVM, use numeric gradient checking as a debugging tool.\n",
    "# The numeric gradient should be close to the analytic gradient.\n",
    "from asgn1.gradient_check import grad_check_sparse\n",
    "f = lambda w: softmax_loss_naive(w, X_dev, y_dev, 0.0)[0]\n",
    "grad_numerical = grad_check_sparse(f, W, grad, 10)\n",
    "\n",
    "# similar to SVM case, do another gradient check with regularization\n",
    "loss, grad = softmax_loss_naive(W, X_dev, y_dev, 1e2)\n",
    "f = lambda w: softmax_loss_naive(w, X_dev, y_dev, 1e2)[0]\n",
    "grad_numerical = grad_check_sparse(f, W, grad, 10)"
   ]
  },
  {
   "cell_type": "code",
   "execution_count": 5,
   "metadata": {},
   "outputs": [
    {
     "name": "stdout",
     "output_type": "stream",
     "text": [
      "naive loss: 2.386377e+00 computed in 0.152566s\n",
      "vectorized loss: 2.386377e+00 computed in 0.171419s\n",
      "Loss difference: 0.000000\n",
      "Gradient difference: 0.000000\n"
     ]
    }
   ],
   "source": [
    "# Now that we have a naive implementation of the softmax loss function and its gradient,\n",
    "# implement a vectorized version in softmax_loss_vectorized.\n",
    "# The two versions should compute the same results, but the vectorized version should be\n",
    "# much faster.\n",
    "tic = time.time()\n",
    "loss_naive, grad_naive = softmax_loss_naive(W, X_dev, y_dev, 0.00001)\n",
    "toc = time.time()\n",
    "print 'naive loss: %e computed in %fs' % (loss_naive, toc - tic)\n",
    "\n",
    "from asgn1.classifiers.softmax import softmax_loss_vectorized\n",
    "tic = time.time()\n",
    "loss_vectorized, grad_vectorized = softmax_loss_vectorized(W, X_dev, y_dev, 0.00001)\n",
    "toc = time.time()\n",
    "print 'vectorized loss: %e computed in %fs' % (loss_vectorized, toc - tic)\n",
    "\n",
    "# As we did for the SVM, we use the Frobenius norm to compare the two versions\n",
    "# of the gradient.\n",
    "grad_difference = np.linalg.norm(grad_naive - grad_vectorized, ord='fro')\n",
    "print 'Loss difference: %f' % np.abs(loss_naive - loss_vectorized)\n",
    "print 'Gradient difference: %f' % grad_difference"
   ]
  },
  {
   "cell_type": "code",
   "execution_count": 6,
   "metadata": {},
   "outputs": [
    {
     "name": "stdout",
     "output_type": "stream",
     "text": [
      "iteration 0 / 1500: loss 43.826731\n",
      "iteration 100 / 1500: loss 35.432523\n",
      "iteration 200 / 1500: loss 30.362343\n",
      "iteration 300 / 1500: loss 26.320728\n",
      "iteration 400 / 1500: loss 23.006685\n",
      "iteration 500 / 1500: loss 19.932776\n",
      "iteration 600 / 1500: loss 17.105328\n",
      "iteration 700 / 1500: loss 15.029684\n",
      "iteration 800 / 1500: loss 13.153354\n",
      "iteration 900 / 1500: loss 11.479145\n",
      "iteration 1000 / 1500: loss 10.134681\n",
      "iteration 1100 / 1500: loss 8.894699\n",
      "iteration 1200 / 1500: loss 7.906477\n",
      "iteration 1300 / 1500: loss 6.946120\n",
      "iteration 1400 / 1500: loss 6.409322\n",
      "0.35\n",
      "iteration 0 / 1500: loss 392.066454\n",
      "iteration 100 / 1500: loss 87.512635\n",
      "iteration 200 / 1500: loss 20.793035\n",
      "iteration 300 / 1500: loss 6.181959\n",
      "iteration 400 / 1500: loss 2.911336\n",
      "iteration 500 / 1500: loss 2.264160\n",
      "iteration 600 / 1500: loss 2.088271\n",
      "iteration 700 / 1500: loss 2.043919\n",
      "iteration 800 / 1500: loss 1.987538\n",
      "iteration 900 / 1500: loss 1.987518\n",
      "iteration 1000 / 1500: loss 2.009961\n",
      "iteration 1100 / 1500: loss 2.103372\n",
      "iteration 1200 / 1500: loss 2.015591\n",
      "iteration 1300 / 1500: loss 2.071680\n",
      "iteration 1400 / 1500: loss 2.014797\n",
      "0.361\n",
      "iteration 0 / 1500: loss 44.234131\n",
      "iteration 100 / 1500: loss 40.260643\n",
      "iteration 200 / 1500: loss 37.588570\n",
      "iteration 300 / 1500: loss 35.545210\n",
      "iteration 400 / 1500: loss 33.847334\n",
      "iteration 500 / 1500: loss 32.143434\n",
      "iteration 600 / 1500: loss 30.602268\n",
      "iteration 700 / 1500: loss 29.025490\n",
      "iteration 800 / 1500: loss 27.688513\n",
      "iteration 900 / 1500: loss 26.153159\n",
      "iteration 1000 / 1500: loss 24.843662\n",
      "iteration 1100 / 1500: loss 23.891706\n",
      "iteration 1200 / 1500: loss 22.605316\n",
      "iteration 1300 / 1500: loss 21.705330\n",
      "iteration 1400 / 1500: loss 20.586775\n",
      "0.284\n",
      "iteration 0 / 1500: loss 388.756960\n",
      "iteration 100 / 1500: loss 235.349709\n",
      "iteration 200 / 1500: loss 142.896723\n",
      "iteration 300 / 1500: loss 87.083355\n",
      "iteration 400 / 1500: loss 53.478072\n",
      "iteration 500 / 1500: loss 33.121542\n",
      "iteration 600 / 1500: loss 20.849676\n",
      "iteration 700 / 1500: loss 13.427828\n",
      "iteration 800 / 1500: loss 8.893550\n",
      "iteration 900 / 1500: loss 6.211372\n",
      "iteration 1000 / 1500: loss 4.509298\n",
      "iteration 1100 / 1500: loss 3.579761\n",
      "iteration 1200 / 1500: loss 2.946591\n",
      "iteration 1300 / 1500: loss 2.578872\n",
      "iteration 1400 / 1500: loss 2.333127\n",
      "0.361\n",
      "lr 1.000000e-07 reg 5.000000e+05 train accuracy: 0.267102 val accuracy: 0.284000\n",
      "lr 1.000000e-07 reg 5.000000e+06 train accuracy: 0.351163 val accuracy: 0.361000\n",
      "lr 3.000000e-07 reg 5.000000e+05 train accuracy: 0.363265 val accuracy: 0.350000\n",
      "lr 3.000000e-07 reg 5.000000e+06 train accuracy: 0.353510 val accuracy: 0.361000\n",
      "best validation accuracy achieved during cross-validation: 0.361000\n"
     ]
    }
   ],
   "source": [
    "# Use the validation set to tune hyperparameters (regularization strength and\n",
    "# learning rate). You should experiment with different ranges for the learning\n",
    "# rates and regularization strengths; if you are careful you should be able to\n",
    "# get a classification accuracy of over 0.35 on the validation set.\n",
    "from asgn1.classifiers import Softmax\n",
    "results = {}\n",
    "best_val = -1\n",
    "best_softmax = None\n",
    "learning_rates = [3e-7,1e-7]\n",
    "regularization_strengths = [5e5, 5e6]\n",
    "\n",
    "for i in learning_rates:\n",
    "    for j in regularization_strengths:\n",
    "        softmax=Softmax()\n",
    "        loss_hist = softmax.train(X_train, y_train, learning_rate=i, reg=j,\n",
    "                      num_iters=1500, verbose=True)\n",
    "        y_train_pred = softmax.predict(X_train)\n",
    "        y_val_pred = softmax.predict(X_val)\n",
    "        results[i,j]=[np.mean(y_train == y_train_pred),np.mean(y_val == y_val_pred)]\n",
    "        print np.mean(y_val == y_val_pred)\n",
    "        if (np.mean(y_val == y_val_pred))>best_val:\n",
    "            best_val=np.mean(y_val == y_val_pred)\n",
    "            best_softmax=softmax\n",
    "    \n",
    "# Print out results.\n",
    "for lr, reg in sorted(results):\n",
    "    train_accuracy, val_accuracy = results[(lr, reg)]\n",
    "    print 'lr %e reg %e train accuracy: %f val accuracy: %f' % (\n",
    "                lr, reg, train_accuracy, val_accuracy)\n",
    "    \n",
    "print 'best validation accuracy achieved during cross-validation: %f' % best_val"
   ]
  },
  {
   "cell_type": "code",
   "execution_count": 8,
   "metadata": {},
   "outputs": [
    {
     "name": "stdout",
     "output_type": "stream",
     "text": [
      "softmax on raw pixels final test set accuracy: 0.353000\n"
     ]
    }
   ],
   "source": [
    "# evaluate on test set\n",
    "# Evaluate the best softmax on test set\n",
    "y_test_pred = best_softmax.predict(X_test)\n",
    "num_classes = 10\n",
    "#making a confusion matrix to analize performance\n",
    "confmatrix = np.zeros((num_classes,num_classes))\n",
    "for i in range(0,y_test_pred.shape[0]):\n",
    "    confmatrix[y_test[i],y_test_pred[i]]+=1\n",
    "test_accuracy = np.mean(y_test == y_test_pred)\n",
    "print 'softmax on raw pixels final test set accuracy: %f' % (test_accuracy, )"
   ]
  },
  {
   "cell_type": "code",
   "execution_count": 9,
   "metadata": {},
   "outputs": [
    {
     "data": {
      "image/png": "[encoded data removed]",
      "text/plain": [
       "<matplotlib.figure.Figure at 0x7f9570fc7d10>"
      ]
     },
     "metadata": {},
     "output_type": "display_data"
    }
   ],
   "source": [
    "# Visualize the learned weights for each class\n",
    "w = best_softmax.W[:-1,:] # strip out the bias\n",
    "w = w.reshape(32, 32, 3, 10)\n",
    "\n",
    "w_min, w_max = np.min(w), np.max(w)\n",
    "\n",
    "classes = ['plane', 'car', 'bird', 'cat', 'deer', 'dog', 'frog', 'horse', 'ship', 'truck']\n",
    "for i in xrange(10):\n",
    "  plt.subplot(2, 5, i + 1)\n",
    "  \n",
    "  # Rescale the weights to be between 0 and 255\n",
    "  wimg = 255.0 * (w[:, :, :, i].squeeze() - w_min) / (w_max - w_min)\n",
    "  plt.imshow(wimg.astype('uint8'))\n",
    "  plt.axis('off')\n",
    "  plt.title(classes[i])"
   ]
  },
  {
   "cell_type": "code",
   "execution_count": 10,
   "metadata": {
    "collapsed": true
   },
   "outputs": [],
   "source": [
    "# saving the best svm model to pickel file\n",
    "import pickle\n",
    "pickle.dump({\"best_softmax\":best_softmax,\"cmatrix\":confmatrix}, open( \"best_softmax.p\", \"wb\" ) )"
   ]
  }
 ],
 "metadata": {
  "kernelspec": {
   "display_name": "Python 2",
   "language": "python",
   "name": "python2"
  },
  "language_info": {
   "codemirror_mode": {
    "name": "ipython",
    "version": 2
   },
   "file_extension": ".py",
   "mimetype": "text/x-python",
   "name": "python",
   "nbconvert_exporter": "python",
   "pygments_lexer": "ipython2",
   "version": "2.7.13"
  }
 },
 "nbformat": 4,
 "nbformat_minor": 1
}
